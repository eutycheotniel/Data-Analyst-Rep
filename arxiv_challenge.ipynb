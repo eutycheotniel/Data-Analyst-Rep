{
  "nbformat": 4,
  "nbformat_minor": 0,
  "metadata": {
    "colab": {
      "provenance": [],
      "toc_visible": true,
      "authorship_tag": "ABX9TyMwrtTa2cKFP9R8smr28Vai",
      "include_colab_link": true
    },
    "kernelspec": {
      "name": "python3",
      "display_name": "Python 3"
    },
    "language_info": {
      "name": "python"
    }
  },
  "cells": [
    {
      "cell_type": "markdown",
      "metadata": {
        "id": "view-in-github",
        "colab_type": "text"
      },
      "source": [
        "<a href=\"https://colab.research.google.com/github/eutycheotniel/Data-Analyst-Rep/blob/main/arxiv_challenge.ipynb\" target=\"_parent\"><img src=\"https://colab.research.google.com/assets/colab-badge.svg\" alt=\"Open In Colab\"/></a>"
      ]
    },
    {
      "cell_type": "code",
      "source": [
        "# xmltodict pour convertir la reponse XML en dictionnaire Python\n",
        "!pip install requests xmltodict pandas"
      ],
      "metadata": {
        "id": "kkCwilNpJ0S_"
      },
      "execution_count": null,
      "outputs": []
    },
    {
      "cell_type": "code",
      "source": [
        "import requests\n",
        "import xmltodict\n",
        "import pandas as pd\n",
        "\n",
        "def fetch_arxiv_data(query):\n",
        "    base_url = 'http://export.arxiv.org/api/query?'\n",
        "\n",
        "    # Construire les paramètres de la requête\n",
        "    params = {\n",
        "        'search_query': query,\n",
        "        'start': 0,\n",
        "        'max_results': 50  # le nombre est modifiable\n",
        "    }\n",
        "\n",
        "    response = requests.get(base_url, params=params)\n",
        "\n",
        "    # Changemment de la réponse XML à un dictionnaire Python\n",
        "    if response.status_code == 200:\n",
        "        data = xmltodict.parse(response.text)\n",
        "        return data\n",
        "    else:\n",
        "        print('Error fetching data:', response.status_code)\n",
        "        return None\n",
        "\n",
        "# Requête pour les articles mentionnant « cybersécurité » dans leurs titres\n",
        "query = 'ti:\"cyber security\"'\n",
        "result = fetch_arxiv_data(query)\n",
        "\n",
        "# Traitez les données récupérées dans un Pandas DataFrame\n",
        "if result:\n",
        "    entries = result['feed']['entry']\n",
        "    papers = []\n",
        "    for entry in entries:\n",
        "        paper = {\n",
        "            'Title': entry['title'],\n",
        "            'Published': entry['published'],\n",
        "            'Summary': entry['summary']\n",
        "            # Possible d'en ajouter\n",
        "        }\n",
        "        papers.append(paper)\n",
        "\n",
        "   # Créer un DataFrame à partir de la liste des dictionnaires\n",
        "    df = pd.DataFrame(papers)\n",
        "    print(df)\n",
        "\n"
      ],
      "metadata": {
        "id": "k1SlQLrBFyju"
      },
      "execution_count": null,
      "outputs": []
    },
    {
      "cell_type": "code",
      "source": [
        "df.head(50)"
      ],
      "metadata": {
        "id": "La8FVm6fPPbJ"
      },
      "execution_count": null,
      "outputs": []
    },
    {
      "cell_type": "code",
      "source": [
        "from google.colab import drive\n",
        "drive.mount('/content/drive')"
      ],
      "metadata": {
        "id": "N_OWt6dfnMDQ"
      },
      "execution_count": null,
      "outputs": []
    },
    {
      "cell_type": "code",
      "source": [
        "# Sauvegarde des données dans un fichier CSV\n",
        "df.to_csv('ArxivChallenge.csv', index=False)\n"
      ],
      "metadata": {
        "id": "jck_atCzt3mV"
      },
      "execution_count": null,
      "outputs": []
    }
  ]
}